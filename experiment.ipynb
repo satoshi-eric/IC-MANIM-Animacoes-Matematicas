{
 "cells": [
  {
   "cell_type": "code",
   "execution_count": 2,
   "metadata": {},
   "outputs": [
    {
     "data": {
      "text/html": [
       "<pre style=\"white-space:pre;overflow-x:auto;line-height:normal;font-family:Menlo,'DejaVu Sans Mono',consolas,'Courier New',monospace\">Manim Community <span style=\"color: #008000; text-decoration-color: #008000\">v0.13.1</span>\n",
       "\n",
       "</pre>\n"
      ],
      "text/plain": [
       "Manim Community \u001b[32mv0.\u001b[0m\u001b[32m13.1\u001b[0m\n",
       "\n"
      ]
     },
     "metadata": {},
     "output_type": "display_data"
    }
   ],
   "source": [
    "from manim import *\n",
    "from typing import Tuple"
   ]
  },
  {
   "cell_type": "markdown",
   "metadata": {},
   "source": [
    "## Testando o comportamento do objeto `Angle`\n",
    "\n",
    "Ele possui os seguintes parâmetros:\n",
    "- line1: Line\n",
    "- line2: Line\n",
    "- radius: float\n",
    "- quadrant: Tuple[-1 | 1, -1 | 1]"
   ]
  },
  {
   "cell_type": "code",
   "execution_count": 5,
   "metadata": {},
   "outputs": [
    {
     "name": "stderr",
     "output_type": "stream",
     "text": [
      "                                                                                  \r"
     ]
    },
    {
     "data": {
      "text/html": [
       "<video src=\"media\\jupyter\\LearnAngle@2021-12-17@16-27-44.mp4\" controls autoplay loop style=\"max-width: 60%;\"  >\n",
       "      Your browser does not support the <code>video</code> element.\n",
       "    </video>"
      ],
      "text/plain": [
       "<IPython.core.display.Video object>"
      ]
     },
     "metadata": {},
     "output_type": "display_data"
    }
   ],
   "source": [
    "%%manim -qm -v WARNING LearnAngle \n",
    "class TrianguloData(VGroup):\n",
    "    def __init__(\n",
    "        self, \n",
    "        vertices: Tuple[\n",
    "            Tuple[float, float, float], \n",
    "            Tuple[float, float, float], \n",
    "            Tuple[float, float, float]\n",
    "        ] = (\n",
    "            (-2, -1, 0),\n",
    "            (2, -1, 0),\n",
    "            (0, 2, 0), \n",
    "        ),\n",
    "        *vmobjects, \n",
    "        **kwargs\n",
    "        ):\n",
    "        super().__init__(*vmobjects, **kwargs)\n",
    "\n",
    "        arestas = VGroup(\n",
    "            Line(vertices[0], vertices[1], color=RED),\n",
    "            Line(vertices[1], vertices[2], color=GREEN),\n",
    "            Line(vertices[2], vertices[0], color=BLUE),\n",
    "        )\n",
    "\n",
    "        angulos_forma = VGroup(\n",
    "            Angle(arestas[0], arestas[1], radius=0.5, quadrant=(-1, 1), other_angle=True, color=BLUE),\n",
    "            Angle(arestas[1], arestas[2], radius=0.5, quadrant=(-1, 1), other_angle=True, color=RED),\n",
    "            Angle(arestas[2], arestas[0], radius=0.5, quadrant=(-1, 1), other_angle=True, color=GREEN),            \n",
    "        )\n",
    "\n",
    "        angulo_labels = VGroup(\n",
    "            MathTex(\"\\\\widehat{C}\", color=BLUE).move_to(angulos_forma[0].get_center() + 0.35*LEFT+0.2*UP).scale(0.5),\n",
    "            MathTex(\"\\\\widehat{A}\", color=RED).move_to(angulos_forma[1].get_center() + 0.35*DOWN).scale(0.5),\n",
    "            MathTex(\"\\\\widehat{B}\", color=GREEN).move_to(angulos_forma[2].get_center() + 0.35*RIGHT+0.2*UP).scale(0.5),\n",
    "        )\n",
    "\n",
    "        angulos = VGroup(\n",
    "            *[\n",
    "                VGroup(angulos_forma[i], angulo_labels[i]) \n",
    "                for i in range(len(angulos_forma))\n",
    "            ]\n",
    "        )\n",
    "\n",
    "        braces = [\n",
    "            BraceBetweenPoints(arestas[0].points[0], arestas[0].points[-1]),\n",
    "            BraceBetweenPoints(arestas[1].points[0], arestas[1].points[-1]),\n",
    "            BraceBetweenPoints(arestas[2].points[0], arestas[2].points[-1]),\n",
    "        ]\n",
    "\n",
    "        braces_labels = [\n",
    "            MathTex(\"a\").move_to(braces[0].get_center() + 0.35*DOWN).scale(0.8),\n",
    "            MathTex(\"b\").move_to(braces[1].get_center() + 0.5*RIGHT+0.3*UP).scale(0.8),\n",
    "            MathTex(\"c\").move_to(braces[2].get_center() + 0.5*LEFT+0.3*UP).scale(0.8),\n",
    "        ]\n",
    "\n",
    "        lengths = VGroup(\n",
    "            *[\n",
    "                VGroup(braces[i], braces_labels[i])\n",
    "                for i in range(len(braces))\n",
    "            ]\n",
    "        )\n",
    "\n",
    "        circulo = Circle(radius=2.15, color=YELLOW).move_to(0.15*DOWN)\n",
    "\n",
    "        self.add(arestas, lengths, angulos, circulo)\n",
    "\n",
    "    @property\n",
    "    def arestas(self):\n",
    "        return self[0]\n",
    "\n",
    "    @property\n",
    "    def lengths(self):\n",
    "        return self[1]\n",
    "\n",
    "    @property\n",
    "    def angulos(self):\n",
    "        return self[2]\n",
    "\n",
    "    @property\n",
    "    def circulo(self):\n",
    "        return self[3]\n",
    "\n",
    "            \n",
    "class LearnAngle(Scene):\n",
    "    def construct(self):\n",
    "        triangulo = TrianguloData()\n",
    "        formula = MathTex('\\\\frac{a}{sen(\\\\widehat{A})} = \\\\frac{b}{sen(\\\\widehat{B})} = \\\\frac{c}{sen(\\\\widehat{C})} = 2R').scale(0.8)\n",
    "        \n",
    "        self.play(Write(triangulo.arestas))\n",
    "         "
   ]
  },
  {
   "cell_type": "code",
   "execution_count": 33,
   "metadata": {},
   "outputs": [
    {
     "name": "stderr",
     "output_type": "stream",
     "text": [
      "                                                                                                                                                                     \r"
     ]
    },
    {
     "data": {
      "text/html": [
       "<video src=\"media\\jupyter\\LeiSenos@2021-12-14@17-32-22.mp4\" controls autoplay loop style=\"max-width: 60%;\"  >\n",
       "      Your browser does not support the <code>video</code> element.\n",
       "    </video>"
      ],
      "text/plain": [
       "<IPython.core.display.Video object>"
      ]
     },
     "metadata": {},
     "output_type": "display_data"
    }
   ],
   "source": [
    "%%manim -ql -v WARNING LeiSenos\n",
    "\n",
    "class LeiSenos(Scene):\n",
    "    def construct(self):\n",
    "        self.formula = MathTex('\\\\frac{a}{sen(\\\\widehat{A})} = \\\\frac{b}{sen(\\\\widehat{B})} = \\\\frac{c}{sen(\\\\widehat{C})} = 2R').scale(0.8)\n",
    "        self.play(Write(self.formula))"
   ]
  },
  {
   "cell_type": "code",
   "execution_count": 7,
   "metadata": {},
   "outputs": [
    {
     "name": "stderr",
     "output_type": "stream",
     "text": [
      "                                                                                                                                                                                                                 \r"
     ]
    },
    {
     "data": {
      "text/html": [
       "<video src=\"media\\jupyter\\Formula@2021-12-16@16-01-00.mp4\" controls autoplay loop style=\"max-width: 60%;\"  >\n",
       "      Your browser does not support the <code>video</code> element.\n",
       "    </video>"
      ],
      "text/plain": [
       "<IPython.core.display.Video object>"
      ]
     },
     "metadata": {},
     "output_type": "display_data"
    }
   ],
   "source": [
    "%%manim -qm -v WARNING Formula\n",
    "\n",
    "class Formula(Scene):\n",
    "    def construct(self):\n",
    "        modulo_produto_vetorial = MathTex(r\"\\left | \\vec{u} \\times \\vec{v} \\right | = \\left | \\vec{u} \\right | \\cdot \\left | \\vec{v} \\right | \\cdot sen(\\theta)\")\n",
    "        self.play(Write(modulo_produto_vetorial))"
   ]
  },
  {
   "cell_type": "code",
   "execution_count": 9,
   "metadata": {},
   "outputs": [
    {
     "name": "stderr",
     "output_type": "stream",
     "text": [
      "                                                                                                                                                                                                                                        \r"
     ]
    },
    {
     "data": {
      "text/html": [
       "<video src=\"media\\jupyter\\Lista@2021-12-18@20-42-26.mp4\" controls autoplay loop style=\"max-width: 60%;\"  >\n",
       "      Your browser does not support the <code>video</code> element.\n",
       "    </video>"
      ],
      "text/plain": [
       "<IPython.core.display.Video object>"
      ]
     },
     "metadata": {},
     "output_type": "display_data"
    }
   ],
   "source": [
    "%%manim -qm -v WARNING Lista  \n",
    "\n",
    "class Lista(Scene):\n",
    "    def construct(self):\n",
    "        topics = BulletedList(\n",
    "            '($\\\\vec{u}$, $\\\\vec{v}$) é LD (Linearmente dependente) se $\\\\vec{u}$ e $\\\\vec{v}$ são paralelos',\n",
    "            '($\\\\vec{u}$, $\\\\vec{v}$, $\\\\vec{w}$) é LD (Linearmente dependente) se $\\\\vec{u}$, $\\\\vec{v}$ e $\\\\vec{w}$ são paralelos a um mesmo plano',\n",
    "        ).scale(0.5)\n",
    "        self.play(Write(topics[0]))\n",
    "        self.play(Write(topics[1]))"
   ]
  },
  {
   "cell_type": "code",
   "execution_count": 4,
   "metadata": {},
   "outputs": [
    {
     "name": "stderr",
     "output_type": "stream",
     "text": [
      "                                                                                        \r"
     ]
    },
    {
     "data": {
      "text/html": [
       "<video src=\"media\\jupyter\\BulletList@2021-12-19@15-07-12.mp4\" controls autoplay loop style=\"max-width: 60%;\"  >\n",
       "      Your browser does not support the <code>video</code> element.\n",
       "    </video>"
      ],
      "text/plain": [
       "<IPython.core.display.Video object>"
      ]
     },
     "metadata": {},
     "output_type": "display_data"
    }
   ],
   "source": [
    "%%manim -qm -v WARNING BulletList\n",
    "\n",
    "class BulletList(Scene):\n",
    "    def construct(self):\n",
    "        lista = Tex(\n",
    "            '$\\\\bullet$ a'\n",
    "        )\n",
    "        self.play(Write(lista))"
   ]
  },
  {
   "cell_type": "code",
   "execution_count": 43,
   "metadata": {},
   "outputs": [
    {
     "name": "stderr",
     "output_type": "stream",
     "text": [
      "                                                               \r"
     ]
    },
    {
     "data": {
      "text/html": [
       "<video src=\"media\\jupyter\\SetaTest@2021-12-20@17-30-09.mp4\" controls autoplay loop style=\"max-width: 60%;\"  >\n",
       "      Your browser does not support the <code>video</code> element.\n",
       "    </video>"
      ],
      "text/plain": [
       "<IPython.core.display.Video object>"
      ]
     },
     "metadata": {},
     "output_type": "display_data"
    }
   ],
   "source": [
    "%%manim -qm -v WARNING SetaTest\n",
    "\n",
    "class Seta(Line):\n",
    "    def __init__(self, start=(0, 0, 0), end=(1, 1, 0), **kwargs):\n",
    "        super().__init__(start, end, **kwargs)\n",
    "        triangulo = Triangle()\n",
    "        triangulo.scale(0.15).rotate(-90*DEGREES)\n",
    "        try:\n",
    "            triangulo.set_fill(kwargs['color'])\n",
    "        except KeyError:\n",
    "            triangulo.set_fill(BLUE)\n",
    "        try:\n",
    "            triangulo.rotate(np.arctan((end[1] - start[1])/(end[0] - start[0])))\n",
    "            if end[0] - start[0] < 0 or end[1] - start[1] < 0:\n",
    "                triangulo.rotate(180*DEGREES)\n",
    "        except ZeroDivisionError:\n",
    "            if end[1] - start[1] < 0:\n",
    "                triangulo.rotate(270*DEGREES)\n",
    "            else:\n",
    "                triangulo = Triangle().scale(0.15)\n",
    "        triangulo.move_to(self.point_from_proportion(0.95))\n",
    "        self.add(triangulo)\n",
    "\n",
    "class SetaTest(Scene):\n",
    "    def construct(self):\n",
    "        seta = Seta((0, 0, 0), (0, 1, 0)).scale(2)\n",
    "        self.play(Write(seta))\n"
   ]
  }
 ],
 "metadata": {
  "interpreter": {
   "hash": "3baef1c5c3a0077a1f7a61cc7bbad67a2dacee1247ea13ecb3eaaeebbf18bc11"
  },
  "kernelspec": {
   "display_name": "Python 3.9.7 64-bit ('manim': conda)",
   "language": "python",
   "name": "python3"
  },
  "language_info": {
   "codemirror_mode": {
    "name": "ipython",
    "version": 3
   },
   "file_extension": ".py",
   "mimetype": "text/x-python",
   "name": "python",
   "nbconvert_exporter": "python",
   "pygments_lexer": "ipython3",
   "version": "3.9.7"
  },
  "orig_nbformat": 4
 },
 "nbformat": 4,
 "nbformat_minor": 2
}
