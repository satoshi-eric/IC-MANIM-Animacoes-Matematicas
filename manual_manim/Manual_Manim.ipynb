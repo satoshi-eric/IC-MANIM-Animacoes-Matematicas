{
  "nbformat": 4,
  "nbformat_minor": 0,
  "metadata": {
    "colab": {
      "name": "Manual Manim",
      "provenance": [],
      "collapsed_sections": [],
      "toc_visible": true,
      "authorship_tag": "ABX9TyMNMRg+1vdBw9PZ8hGNDBa1",
      "include_colab_link": true
    },
    "kernelspec": {
      "name": "python3",
      "display_name": "Python 3"
    },
    "language_info": {
      "name": "python"
    }
  },
  "cells": [
    {
      "cell_type": "markdown",
      "metadata": {
        "id": "view-in-github",
        "colab_type": "text"
      },
      "source": [
        "<a href=\"https://colab.research.google.com/github/satoshi-eric/IC-MANIM-Animacoess-Matematicas/blob/manual_manim/manual_manim/Manual_Manim.ipynb\" target=\"_parent\"><img src=\"https://colab.research.google.com/assets/colab-badge.svg\" alt=\"Open In Colab\"/></a>"
      ]
    },
    {
      "cell_type": "markdown",
      "metadata": {
        "id": "DLTYTSP8WD65"
      },
      "source": [
        "# Manual de Manim\n",
        "\n",
        "## Sumário\n",
        "\n",
        "* [1. Introdução](#introducao)\n",
        "  * [1.1 O que é o Manim?](#definicao-manim)\n",
        "  * [1.2 Instalação do Manim no Colab](#instalacao-colab)\n",
        "  * [1.3 Primeira Animação](#primeira-animacao)\n",
        "* [2. Introução ao Python](#introducao-python)\n",
        "  * [2.1 Conceitos básicos](#conceitos-basicos)\n",
        "    * [2.1.1 Variáveis](#variaveis)\n",
        "    * [2.1.2 Tipos de dados](#tipos-dados)\n",
        "    * [2.1.3 Operadores aritméticos](#operadores-aritmeticos)\n",
        "    * [2.1.4 Operações com strings](#operacoes-strings)\n",
        "    * [2.1.5 Operações de atribuição](#operacoes-atribuicao)\n",
        "\n",
        "\n"
      ]
    },
    {
      "cell_type": "markdown",
      "metadata": {
        "id": "KHkv4D8Cy2xk"
      },
      "source": [
        "# <h1 id='introducao'> 1. Introdução</h1>\n",
        "\n",
        "---\n",
        "\n",
        "Nesta parte, introduziremos a biblioteca para Python Manim e instalaremos no Google Colab."
      ]
    },
    {
      "cell_type": "markdown",
      "metadata": {
        "id": "qqVTeamSVLDk"
      },
      "source": [
        "## <h2 id='definicao-manim'> 1.1 O que é o Manim? </h2>\n",
        "\n",
        "---\n",
        "\n",
        "![Logo do Manim](https://docs.manim.community/en/stable/_static/manim-logo-sidebar-dark.svg)\n",
        "\n",
        "Manim é uma biblioteca da linuagem de programação Python. Ela foi criada por Grant Sanderson, dono do canal [3blue1brown](https://www.youtube.com/channel/UCYO_jab_esuFRV4b17AJtAw), onde ele posta vídeos de animações utilizando essa biblioteca. Este manual aborda conceitos de programação para python e como usar a biblioteca Manim."
      ]
    },
    {
      "cell_type": "markdown",
      "metadata": {
        "id": "aSP3DRLtz50y"
      },
      "source": [
        "## <h2 id='instalacao-colab'>1.2 Instalação do Manim no Colab</h2>\n",
        "\n",
        "---\n",
        "\n",
        "![Logo do Google Colab](https://colab.research.google.com/img/colab_favicon_256px.png)\n",
        "\n",
        "Para tornar as coisas mais simples, começaremos usando o Google Colab, uma plataforma gratuita para criar código em python. Começaremos usando ela pois não é necessário instalar nenhum tipo de software no computador.\n",
        "\n",
        "Para instalar o Manim no Google Colab, basta rodar o seguinte código.\n",
        "\n",
        "> Obs: para rodar um código no Colab, pressione <kbd>Shift</kbd> + <kbd>Enter</kbd> ou <kbd>Ctrl</kbd> + <kbd>Enter</kbd>\n",
        "\n",
        "> Obs: O código a seguir pode demorar um tempo para rodar.\n",
        "\n",
        "> Obs: No Google Colab, chamamos cada arquivo de **notebook** que é dividido em **células**"
      ]
    },
    {
      "cell_type": "code",
      "metadata": {
        "id": "WGEQ7P75DfS6"
      },
      "source": [
        "from IPython.display import clear_output \n",
        "!sudo apt update\n",
        "!sudo apt install libcairo2-dev ffmpeg texlive texlive-latex-extra texlive-fonts-extra texlive-latex-recommended texlive-science tipa libpango1.0-dev\n",
        "!pip install manim\n",
        "!pip install IPython --upgrade\n",
        "clear_output()"
      ],
      "execution_count": null,
      "outputs": []
    },
    {
      "cell_type": "markdown",
      "metadata": {
        "id": "2LLBuSBtEJEB"
      },
      "source": [
        "Para que o Manim funcione, é necessário reiniciar o ambiente de execução. Para isso, clicar no menu `Ambiente de execução` &#8594; `Reiniciar ambiente de execução`.\n",
        "\n",
        "Para verificar se tudo está funcionando, basta rodar o seguinte código."
      ]
    },
    {
      "cell_type": "code",
      "metadata": {
        "id": "RNqxJLp-F_gO",
        "colab": {
          "base_uri": "https://localhost:8080/",
          "height": 49
        },
        "outputId": "58120645-6410-4c10-8e5f-5caeabf1af36"
      },
      "source": [
        "from manim import *"
      ],
      "execution_count": null,
      "outputs": [
        {
          "output_type": "display_data",
          "data": {
            "text/html": [
              "<pre style=\"white-space:pre;overflow-x:auto;line-height:normal;font-family:Menlo,'DejaVu Sans Mono',consolas,'Courier New',monospace\">Manim Community <span style=\"color: #008000; text-decoration-color: #008000\">v0.11.0</span>\n",
              "\n",
              "</pre>\n"
            ],
            "text/plain": [
              "Manim Community \u001b[32mv0.\u001b[0m\u001b[32m11.0\u001b[0m\n",
              "\n"
            ]
          },
          "metadata": {}
        }
      ]
    },
    {
      "cell_type": "markdown",
      "metadata": {
        "id": "__hNV30rIxbh"
      },
      "source": [
        "Caso apareça a mensagem \n",
        "```\n",
        "Manim Community v0.11.0\n",
        "```\n",
        "ou algo parecido, o Manim foi instalado com sucesso. \n",
        "\n",
        "Caso apareça uma mensagem de erro, o Manim não foi instalado corretamente. Tente reexecutar as instruções anteriores.\n",
        "\n"
      ]
    },
    {
      "cell_type": "markdown",
      "metadata": {
        "id": "XvLMAEuZLO_h"
      },
      "source": [
        "## <h2 id='primeira-animacao'> 1.3 Primeira animação </h2>\n",
        "\n",
        "---\n",
        "\n",
        "Agora que instalamos o Manim no Google Colab podemos começar a criar animações. Apenas visualizar o que a biblioteca pode fazer, execute o seguinte código."
      ]
    },
    {
      "cell_type": "code",
      "metadata": {
        "colab": {
          "base_uri": "https://localhost:8080/",
          "height": 152
        },
        "id": "RS1IOiQeMHRU",
        "outputId": "8166a581-2de2-403b-a135-566c7f250826"
      },
      "source": [
        "%%manim -qm -v WARNING PrimeiraAnimacao\n",
        "\n",
        "class PrimeiraAnimacao(Scene):\n",
        "   def construct(self):\n",
        "     eixos = Axes().scale(0.9).move_to(0.6*DOWN)\n",
        "     reta = Line(eixos.c2p(-4, -3), eixos.c2p(4, 3))\n",
        "     texto = Text('Isso é uma reta').to_corner(UP).scale(0.6)\n",
        "\n",
        "     self.play(Write(eixos))\n",
        "     self.play(Write(reta))\n",
        "     self.play(Write(texto))"
      ],
      "execution_count": null,
      "outputs": [
        {
          "output_type": "stream",
          "name": "stderr",
          "text": [
            ""
          ]
        },
        {
          "output_type": "display_data",
          "data": {
            "text/html": [
              "<video controls autoplay loop style=\"max-width: 25vw;\"  >\n",
              " <source src=\"data:video/mp4;base64,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\" type=\"video/mp4\">\n",
              " Your browser does not support the video tag.\n",
              " </video>"
            ],
            "text/plain": [
              "<IPython.core.display.Video object>"
            ]
          },
          "metadata": {}
        }
      ]
    },
    {
      "cell_type": "markdown",
      "metadata": {
        "id": "Y8BfEFk5N9Lx"
      },
      "source": [
        "Explicando de forma simples, a primeira linha de código possui os comandos para renderizar a animação. Futuramente, veremos como funciona a linha de comando com Manim, mas basicamente pedimos para que a animação seja renderizada em qualidade média limpando toda a saída do terminal."
      ]
    },
    {
      "cell_type": "markdown",
      "metadata": {
        "id": "dc0RP0yuO378"
      },
      "source": [
        "# <h1 id='introducao-python'> 2. Introdução ao Python </h1>\n",
        "\n",
        "---\n",
        "\n",
        "![Logo do Python](https://www.python.org/static/img/python-logo@2x.png)\n",
        "\n",
        "Antes de começar a criar as animações com o Manim, iremos começar abordar a programação em Python, uma linguagem de programação usada em diversas áreas: **data science**, **machine learning**, **desenvolvimento web**, entre outros. Neste manual, abordaremos como usar essa linguagem de programaçao para criar animações. Se você já está familiarizado com o Python, pode pular para a parte onde começamos a falar do Manim **Introdução ao Manim**.\n",
        "\n",
        "\n",
        "\n",
        "\n",
        "\n"
      ]
    },
    {
      "cell_type": "markdown",
      "metadata": {
        "id": "wigvZ1o3T5ww"
      },
      "source": [
        "## <h2 id='conceitos-basicos'> 2.1 Conceitos básicos </h2>\n",
        "\n",
        "---\n",
        "\n",
        "Apenas para começar, vamos escrever nosso primeiro código em python."
      ]
    },
    {
      "cell_type": "code",
      "metadata": {
        "colab": {
          "base_uri": "https://localhost:8080/"
        },
        "id": "JVSm0RX_TT76",
        "outputId": "9548c6e4-54f9-49a8-8380-bab310e87153"
      },
      "source": [
        "print('Hello World')"
      ],
      "execution_count": null,
      "outputs": [
        {
          "output_type": "stream",
          "name": "stdout",
          "text": [
            "Hello World\n"
          ]
        }
      ]
    },
    {
      "cell_type": "markdown",
      "metadata": {
        "id": "Uu_aZMEhTYGB"
      },
      "source": [
        "O código acima imprime na tela a frase \"Hello World\". Ele é o primeiro programa de muitos programadores e serve para verificar se tudo está funcionando corretamente. Entretanto, ele não faz muita coisa. Para isso vamos aos conceitos básicos. "
      ]
    },
    {
      "cell_type": "markdown",
      "metadata": {
        "id": "uWfzauFqT4ZQ"
      },
      "source": [
        "### <h3 id='variaveis'> 2.1.1 Variáveis </h3>\n",
        "\n",
        "---\n",
        "\n",
        "O primeiro conceito que abordaremos são variáveis. Imagine elas como caixas que guardam dados como textos, números, entre outros. Para criar uma variável em Python, escrevemos seu nome e atribupimos um valor para ela. "
      ]
    },
    {
      "cell_type": "code",
      "metadata": {
        "colab": {
          "base_uri": "https://localhost:8080/"
        },
        "id": "InF0uvgST7U0",
        "outputId": "7b2a6008-f580-46cf-8665-04d9ba2876ac"
      },
      "source": [
        "pi = 3.14\n",
        "texto = 'pi'\n",
        "print(pi)\n",
        "print(texto)"
      ],
      "execution_count": null,
      "outputs": [
        {
          "output_type": "stream",
          "name": "stdout",
          "text": [
            "3.14\n",
            "pi\n"
          ]
        }
      ]
    },
    {
      "cell_type": "markdown",
      "metadata": {
        "id": "yK0LVAVZVjSr"
      },
      "source": [
        "Também existem algumas regras para nomear variáveis:\n",
        "\n",
        "* Devem começar com uma letra ou underline (_).\n",
        "* Não podem iniciar com números.\n",
        "* Python diferencia letras maiúsculas e minúsculas.\n",
        "* Não devem ter caracteres especiais como acentos e pontuações.  "
      ]
    },
    {
      "cell_type": "markdown",
      "metadata": {
        "id": "QkUL_P38oKHZ"
      },
      "source": [
        "### <h3 id='tipos-dados'> 2.1.2 Tipos de dados </h3>\n",
        "\n",
        "---\n",
        "\n",
        "Cada variável possui um tipo de dado, podendo ser números, textos, entre outros. \n",
        "\n",
        "Os tipos mais básicos em Python, também conhecidos como **primitivos**, são:\n",
        "\n",
        "* str: também conhecida com string. É uma cadeia de caracteres, ou seja, texto. Precisa estar entre aspas simples ou duplas.\n",
        "* int: números inteiros.\n",
        "* float: números de ponto flutuante, ou seja, números reais.\n",
        "* bool: variáveis que podem ter 2 valores `True` e `False`.\n",
        "\n"
      ]
    },
    {
      "cell_type": "code",
      "metadata": {
        "colab": {
          "base_uri": "https://localhost:8080/"
        },
        "id": "74dUdSMjovFU",
        "outputId": "78a960ee-0628-4ee6-ed09-e77f4d488386"
      },
      "source": [
        "numero_real = 2.71\n",
        "numero_inteiro = 1\n",
        "texto = 'Vartiável do tipo texto'\n",
        "verdadeiro = True\n",
        "\n",
        "print(numero_real)\n",
        "print(numero_inteiro)\n",
        "print(texto)\n",
        "print(verdadeiro)"
      ],
      "execution_count": null,
      "outputs": [
        {
          "output_type": "stream",
          "name": "stdout",
          "text": [
            "2.71\n",
            "1\n",
            "Vartiável do tipo texto\n",
            "True\n"
          ]
        }
      ]
    },
    {
      "cell_type": "markdown",
      "metadata": {
        "id": "--bl6L8Bo_e6"
      },
      "source": [
        "### <h3 id='operadores-aritmeticos'> 2.1.3 Operadores aritméticos </h3>\n",
        "\n",
        "---\n",
        "\n",
        "Além de armazenar dados, as variáveis podem ser utilizadas para realizar operações. Entre variáveis dos tipos int e float, podemos realizar operações matemáticas como:\n",
        "* Adição (+)\n",
        "* Subtração (-)\n",
        "* Multiplicação (*)\n",
        "* Divisão (/)\n",
        "* Módulo (%): resto da divisão\n",
        "* Exponenciação (**)"
      ]
    },
    {
      "cell_type": "code",
      "metadata": {
        "colab": {
          "base_uri": "https://localhost:8080/"
        },
        "id": "44PKKTCAyNXH",
        "outputId": "2dc8c8f6-7389-484e-8c07-503390502b40"
      },
      "source": [
        "pi = 3.14\n",
        "e = 2.71\n",
        "\n",
        "add = pi + e\n",
        "sub = pi - e\n",
        "mult = pi * e\n",
        "div = pi / e\n",
        "mod = pi % e\n",
        "exp = pi ** e\n",
        "\n",
        "print('Adição: ', add)\n",
        "print('Subtração: ', sub)\n",
        "print('Multiplicação: ', mult)\n",
        "print('Divisão: ', div)\n",
        "print('Módulo: ',mod)\n",
        "print('Exponenciação: ', exp)"
      ],
      "execution_count": null,
      "outputs": [
        {
          "output_type": "stream",
          "name": "stdout",
          "text": [
            "Adição:  5.85\n",
            "Subtração:  0.43000000000000016\n",
            "Multiplicação:  8.5094\n",
            "Divisão:  1.1586715867158672\n",
            "Módulo:  0.43000000000000016\n",
            "Exponenciação:  22.21668954600232\n"
          ]
        }
      ]
    },
    {
      "cell_type": "markdown",
      "metadata": {
        "id": "2AxmlIjC_ijk"
      },
      "source": [
        "### <h3 id='operacoes-strings'> 2.1.4 Operações com strings </h3>\n",
        "\n",
        "---\n",
        "\n",
        "Operações podem ser aplicadas não somente a números, mas também a textos. Em Python, temos as segiuntes operações:\n",
        "* Concatenação: adição de 2 ou mais strings (+)\n",
        "* Multiplicação por inteiro: resultando na repetição da strings (*)\n",
        "\n",
        "Também temos a f-string que torna a concatenação de strings com variáveis mais simples. Colocamos um `f` antes da string. "
      ]
    },
    {
      "cell_type": "code",
      "metadata": {
        "id": "fII9U2u3GEJ5",
        "colab": {
          "base_uri": "https://localhost:8080/"
        },
        "outputId": "99bf25d9-a8c3-4380-de0f-fd51de1c29e8"
      },
      "source": [
        "string1 = 'Hello'\n",
        "string2 = 'World'\n",
        "\n",
        "print('Concatenação: ', string1 + string2)\n",
        "print('Multiplicação por inteiro: ', 3 * string1)\n",
        "print(f'f-string: {string1} {string2}')"
      ],
      "execution_count": null,
      "outputs": [
        {
          "output_type": "stream",
          "name": "stdout",
          "text": [
            "Concatenação:  HelloWorld\n",
            "Multiplicação por inteiro:  HelloHelloHello\n",
            "f-string: Hello World\n"
          ]
        }
      ]
    },
    {
      "cell_type": "markdown",
      "metadata": {
        "id": "1Us1Ku5GUlja"
      },
      "source": [
        "### <h3 id='operacoes-booleanas'> 2.1.5 Operaçõe booleanas </h3>\n",
        "\n",
        "---\n",
        "\n",
        "Outro tipo de operação existente, as operações booleanas. Basicamente, utilizamos operações booleanas para realizar comparações. Utilizamos comparações com os seguintes operadores.\n",
        "* `==`: compara se os dois valores são iguais.\n",
        "* `!=`: compara se dois valores são diferentes.\n",
        "* `>`: compara se um valor é maior que o outro.\n",
        "* `>=`: compara se um valor é maior ou igual ao outro.\n",
        "* `<`: compara se um valor é menor que o outro.\n",
        "* `<=`: compara se um valor é menor ou igual ao outro."
      ]
    },
    {
      "cell_type": "code",
      "metadata": {
        "id": "tDqgIZEIWWZc"
      },
      "source": [
        "valor = 5\n",
        "\n",
        "print(valor == 6)\n",
        "print(valor != 5)\n",
        "print(valor > 6)\n",
        "print(valor >= 6)\n",
        "print(valor < 6)\n",
        "print(valor <= 6)"
      ],
      "execution_count": null,
      "outputs": []
    },
    {
      "cell_type": "markdown",
      "metadata": {
        "id": "DaljvpaBXaSN"
      },
      "source": [
        "> Obs: todas essas comparações podem resultar em apenas um dos resultados: `True` ou `False`.\n",
        "\n",
        "> Obs: Veremos na seção **Estrutura de controle** como usamos esssas expresões.\n",
        "\n",
        "Além dessas comparações, podemos utilizar os operadores `and`, `or` e `not` para combinar as comparações ou tipos booleanos.\n",
        "\n",
        "* `and`: resulta verdadeiro apenas se as 2 comparações forem verdadeiras. Caso contrário, resulta falso.\n",
        "* `or`: resulta em verdadeiro se qualquer uma das 2 comparações forem verdadeiras. Se ambas forem falsas, resulta em falso.\n",
        "* `not`: inverte o valor da expressão, ou seja, resulta em True se for False e resulta em False se for True.\n"
      ]
    },
    {
      "cell_type": "code",
      "metadata": {
        "colab": {
          "base_uri": "https://localhost:8080/"
        },
        "id": "t2Uv6lC_bpm_",
        "outputId": "d365383a-2a09-4ea3-ed20-5d6081a198d4"
      },
      "source": [
        "print('True and True: ', True and True)\n",
        "print('True and False: ', True and False)\n",
        "print('False and True: ', False and True)\n",
        "print('False and False: ', False and False)\n",
        "\n",
        "print('True or True: ', True or True)\n",
        "print('True or False: ', True or False)\n",
        "print('False or True: ', False or True)\n",
        "print('False or False: ', False or False)\n",
        "\n",
        "print('not True: ', not True)\n",
        "print('not False: ', not False)"
      ],
      "execution_count": null,
      "outputs": [
        {
          "output_type": "stream",
          "name": "stdout",
          "text": [
            "True and True:  True\n",
            "True and False:  False\n",
            "False and True:  False\n",
            "False and False:  False\n",
            "True or True:  True\n",
            "True or False:  True\n",
            "False or True:  True\n",
            "False or False:  False\n",
            "not True:  False\n",
            "not False:  True\n"
          ]
        }
      ]
    },
    {
      "cell_type": "markdown",
      "metadata": {
        "id": "pKQehUdKIDAj"
      },
      "source": [
        "### <h3 id='operacoes-atribuicao'>2.1.6 Operações de atribuição</h3>\n",
        "\n",
        "---\n",
        "\n",
        "Até agora, utilizamos um simbolo que não foi explicado, o `=`. Ela não funciona como o sinal de igual da matemática. Ele é um operador de atribuição, ou seja, usado para atribuir valor às variáveis. Por exemplo, no código a seguir:\n",
        "```python\n",
        "var = 3\n",
        "```\n",
        "podemos interpretar que `var` recebe o valor `3`. Há outras formas de realizar a atribuição de variáveis.\n",
        "\n",
        "* Adição: `var = var + 2` &#8594; `var += 2`\n",
        "* Subtração: `var = var - 2` &#8594; `var -= 2`\n",
        "* Multiplicação: `var = var * 2` &#8594; `var *= 2`\n",
        "* Divisão: `var = var / 2` &#8594; `var /= 2`\n",
        "* Exponenciação: `var = var ** 2` &#8594; `var **= 2`\n",
        "\n"
      ]
    },
    {
      "cell_type": "code",
      "metadata": {
        "colab": {
          "base_uri": "https://localhost:8080/"
        },
        "id": "LPjVYDG4M7GP",
        "outputId": "096dbb41-6c00-4934-b913-83c0d9f49ba6"
      },
      "source": [
        "var = 3\n",
        "print('Variável antes da atribuição: ', var)\n",
        "\n",
        "var += 2\n",
        "print('Adição: ', var)\n",
        "\n",
        "var -= 2\n",
        "print('Subtração: ', var)\n",
        "\n",
        "var *= 2\n",
        "print('Multiplicação: ', var)\n",
        "\n",
        "var /= 2\n",
        "print('Divisão: ', var)\n",
        "\n",
        "var **= 2\n",
        "print('Exponenciação: ', var)"
      ],
      "execution_count": null,
      "outputs": [
        {
          "output_type": "stream",
          "name": "stdout",
          "text": [
            "Variável antes da atribuição:  3\n",
            "Adição:  5\n",
            "Subtração:  3\n",
            "Multiplicação:  6\n",
            "Divisão:  3.0\n",
            "Exponenciação:  9.0\n"
          ]
        }
      ]
    },
    {
      "cell_type": "markdown",
      "metadata": {
        "id": "WoHFILEKNn7j"
      },
      "source": [
        "### <h3 id='comentarios'> 2.1.7 Comentários </h3>\n",
        "\n",
        "---\n",
        "\n",
        "As vezes, o código pode ficar muito grande e complexo e seria interessante ter anotações sobre o que cada parte do código faz. Comentários não são executados permitindo incluir anotações dentro do código. Para isso, usamos os comentários. Usamos o `# Comantário` para comentários de linha única e `''' comentário '''` ou `\"\"\" comentário \"\"\"` para comentário de múltiplas linhas."
      ]
    },
    {
      "cell_type": "code",
      "metadata": {
        "colab": {
          "base_uri": "https://localhost:8080/"
        },
        "id": "0LAnjBaaPLzT",
        "outputId": "dfc93e8f-75f8-478a-f5c3-86c9eba1a5d2"
      },
      "source": [
        "# Linha comentada\n",
        "print('Linha não comantada')\n",
        "'''\n",
        "Linhas\n",
        "Comentadas\n",
        "'''\n",
        "print('Linha não comentada')"
      ],
      "execution_count": null,
      "outputs": [
        {
          "output_type": "stream",
          "name": "stdout",
          "text": [
            "Linha não comantada\n",
            "Linha não comentada\n"
          ]
        }
      ]
    },
    {
      "cell_type": "markdown",
      "metadata": {
        "id": "n1chjCQRPbs_"
      },
      "source": [
        "### <h3 i='variaveis-manim'> 2.1.8 Variáveis no Manim </h3>\n",
        "\n",
        "---\n",
        "\n",
        "Apenas para dar um gostinho, usaremos os conceitos vistos nesste tópico para criar uma animação. Por exemplo, uma animação que armazena duas fórmulas f1 e f2, escreve f1 e transforma em f2."
      ]
    },
    {
      "cell_type": "code",
      "metadata": {
        "colab": {
          "base_uri": "https://localhost:8080/",
          "height": 152
        },
        "id": "3-wkcuh5QIpN",
        "outputId": "f29d5357-8912-4380-f18f-1503fb3d9157"
      },
      "source": [
        "%%manim -qm -v WARNING Variaveis\n",
        "\n",
        "class Variaveis(Scene):\n",
        "  def construct(self):\n",
        "    f1 = MathTex('y = ax + b').scale(2)\n",
        "    f2 = MathTex('y = 2x + 1').scale(2)\n",
        "    \n",
        "    self.play(Write(f1))\n",
        "    self.play(TransformMatchingTex(f1, f2))\n",
        "    self.wait()"
      ],
      "execution_count": null,
      "outputs": [
        {
          "output_type": "stream",
          "name": "stderr",
          "text": [
            ""
          ]
        },
        {
          "output_type": "display_data",
          "data": {
            "text/html": [
              "<video controls autoplay loop style=\"max-width: 25vw;\"  >\n",
              " <source src=\"data:video/mp4;base64,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\" type=\"video/mp4\">\n",
              " Your browser does not support the video tag.\n",
              " </video>"
            ],
            "text/plain": [
              "<IPython.core.display.Video object>"
            ]
          },
          "metadata": {}
        }
      ]
    },
    {
      "cell_type": "markdown",
      "metadata": {
        "id": "v10xlc-pVAuI"
      },
      "source": [
        "## <h2 id='mais-tipos'> 2.2 Mais tipos </h2>\n",
        "\n",
        "---\n",
        "\n",
        "Além dos tipos primitivos, existem mais tipos e iremos abordá-los nesta seção."
      ]
    },
    {
      "cell_type": "markdown",
      "metadata": {
        "id": "ijXCX6OtYWaw"
      },
      "source": [
        "### <h3 id='listas'> 2.2.1 Listas </h3>\n",
        "\n",
        "---\n",
        "\n",
        "As vezes, queremos armazenar diversos valores em uma única variável. Usamos listas para isso. Para criá-las, usamos colchetes (`[]`) e inserimos os valores separados por vírgulas `,`. Chamamos cada valor da lista de **elemento** e podemos acessá-los através de índices, números inteiros começando do 0.\n"
      ]
    },
    {
      "cell_type": "code",
      "metadata": {
        "colab": {
          "base_uri": "https://localhost:8080/"
        },
        "id": "wH6FKx8weMKI",
        "outputId": "63deed38-b178-4642-8560-4dbb334cca27"
      },
      "source": [
        "numeros_naturais = [1, 2, 3, 4, 5, 6, 7, 8, 9]\n",
        "print('Lista: ', numeros_naturais)\n",
        "print('Elemento 1:', numeros_naturais[0])"
      ],
      "execution_count": null,
      "outputs": [
        {
          "output_type": "stream",
          "name": "stdout",
          "text": [
            "Lista:  [1, 2, 3, 4, 5, 6, 7, 8, 9]\n",
            "Elemento 1: 1\n"
          ]
        }
      ]
    },
    {
      "cell_type": "markdown",
      "metadata": {
        "id": "DRjVuo2Uwrtq"
      },
      "source": [
        "> Obs: Podemos ter listas dentro de listas como matrizes. Para acessar seus elementos, basta adicionar colchetes. Exemplo: `matriz[0][0]`\n",
        "\n",
        "Além dessas operações, também podemos realizar algumas operações de conjuntos matemáticos:\n",
        "\n",
        "* **in**: Verifica se um elemento pertence ao conjunto.\n",
        "* **not in**: Verifica se um elemento não está no conjunto.\n",
        "* **+** : Soma 2 listas resultando em outra lista.\n",
        "* **\\*** : Repete a lista.\n",
        "* **len**: Retorna o número de elementos da lista"
      ]
    },
    {
      "cell_type": "code",
      "metadata": {
        "colab": {
          "base_uri": "https://localhost:8080/"
        },
        "id": "PLnkMctGoRDf",
        "outputId": "d4313b4d-fca5-46ae-f51a-04a6a6e47197"
      },
      "source": [
        "numeros_racionais = [0.1, 0.2, 0.3, 0.4]\n",
        "numeros_irracionais = [3.14, 2.72]\n",
        "\n",
        "print(0.1 in numeros_racionais)\n",
        "print(0.5 not in numeros_racionais)\n",
        "print(numeros_irracionais + numeros_racionais)\n",
        "print(3 * numeros_irracionais)\n",
        "print(len(numeros_irracionais))"
      ],
      "execution_count": null,
      "outputs": [
        {
          "output_type": "stream",
          "name": "stdout",
          "text": [
            "True\n",
            "True\n",
            "[3.14, 2.72, 0.1, 0.2, 0.3, 0.4]\n",
            "[3.14, 2.72, 3.14, 2.72, 3.14, 2.72]\n",
            "2\n"
          ]
        }
      ]
    },
    {
      "cell_type": "markdown",
      "metadata": {
        "id": "2dG4_ZN1mJd4"
      },
      "source": [
        "### <h3 id='listas-fatiadas'> 2.2.2 Listas fatiadas </h3>\n",
        "\n",
        "---\n",
        "\n",
        "Vimos como acessar um elemento de uma lista, mas como acessar um intervalo? Usamos listas fatiadas para isso. Inserimos um intervalo dntro do colchetes separando o intervalo por dois pontos `:`."
      ]
    },
    {
      "cell_type": "code",
      "metadata": {
        "colab": {
          "base_uri": "https://localhost:8080/"
        },
        "id": "MOgmlP1FnABV",
        "outputId": "b1551ccd-a6c5-4a97-95ef-715354e468e3"
      },
      "source": [
        "numeros_primos = [2, 3, 4, 7, 11]\n",
        "print(numeros_primos[0:3])"
      ],
      "execution_count": null,
      "outputs": [
        {
          "output_type": "stream",
          "name": "stdout",
          "text": [
            "[2, 3, 4]\n"
          ]
        }
      ]
    },
    {
      "cell_type": "markdown",
      "metadata": {
        "id": "Z0KQqrKnnQZZ"
      },
      "source": [
        "Acima, o intervalo começa em 0 e termina em 3-1=2. Existem outras formas de fatiar uma lista.\n",
        "\n",
        "* **Adicionando um terceiro número**: são os passos com que a lista será fatiada. Se o terceiro número for 2, a lista pegara de 2 em 2 elementos.\n",
        "* **Omitindo o segundo número**: percorre até o final da lista.\n",
        "* **Omitindo o segundo número**: percorre desde o começo da lista.\n",
        "\n"
      ]
    },
    {
      "cell_type": "code",
      "metadata": {
        "colab": {
          "base_uri": "https://localhost:8080/"
        },
        "id": "uS_NBFqnoEZa",
        "outputId": "0401ea5c-ea24-467b-f9a4-e79f045e3d41"
      },
      "source": [
        "numeros_inteiros = [0, 1, 2, 3, 4, 5, 6, 7, 8, 9]\n",
        "\n",
        "print('Adicionar passos: ', numeros_inteiros[0:10:2])\n",
        "print('Omitindo o segundo número', numeros_inteiros[5:])\n",
        "print('Omitindo o primeir número', numeros_inteiros[:5])"
      ],
      "execution_count": null,
      "outputs": [
        {
          "output_type": "stream",
          "name": "stdout",
          "text": [
            "Adicionar passos:  [0, 2, 4, 6, 8]\n",
            "Omitindo o segundo número [5, 6, 7, 8, 9]\n",
            "Omitindo o primeir número [0, 1, 2, 3, 4]\n"
          ]
        }
      ]
    },
    {
      "cell_type": "markdown",
      "metadata": {
        "id": "h1GK8EwHo1pT"
      },
      "source": [
        "### <h3 id='dicionarios'> 2.2.3 Dicionários </h3>\n",
        "\n",
        "---\n",
        "\n",
        "Nas listas, acessávamos seus elementos através de números inteiros. Nos **dicionários** podemos usar além de inteiros, floats e strings. Para declarar um dicionário, basta usar chaves (`{}`)."
      ]
    },
    {
      "cell_type": "code",
      "metadata": {
        "colab": {
          "base_uri": "https://localhost:8080/"
        },
        "id": "mDn4TMKXtfqN",
        "outputId": "0be1b422-cabc-4d7b-8cd6-98ccb7252493"
      },
      "source": [
        "numeros_irracionais = {\n",
        "    'pi': 3.14,\n",
        "    'e': 2.72\n",
        "}\n",
        "\n",
        "print(numeros_irracionais)\n",
        "print(numeros_irracionais['pi'])"
      ],
      "execution_count": null,
      "outputs": [
        {
          "output_type": "stream",
          "name": "stdout",
          "text": [
            "{'pi': 3.14, 'e': 2.72}\n",
            "3.14\n"
          ]
        }
      ]
    },
    {
      "cell_type": "markdown",
      "metadata": {
        "id": "ktlN55_GwL3i"
      },
      "source": [
        "Como podemos observar, dicionários são conjuntos de `chave : valor`. Podemos acessar essas **chaves** e **valores** com os métodos `keys` e `values`. Iremos definir o que são métodos na seção de Programação Orientada a Objetos. Considere que são códigos que realizam tarefas sem sabermos sua implementação.\n",
        "\n",
        "\n"
      ]
    },
    {
      "cell_type": "code",
      "metadata": {
        "colab": {
          "base_uri": "https://localhost:8080/"
        },
        "id": "aRUmNbDm34o0",
        "outputId": "c4771b6b-5c2e-49dd-a416-1b8b3162c0df"
      },
      "source": [
        "print(numeros_irracionais.keys())\n",
        "print(numeros_irracionais.values())"
      ],
      "execution_count": null,
      "outputs": [
        {
          "output_type": "stream",
          "name": "stdout",
          "text": [
            "dict_keys(['pi', 'e'])\n",
            "dict_values([3.14, 2.72])\n"
          ]
        }
      ]
    },
    {
      "cell_type": "markdown",
      "metadata": {
        "id": "VbDbXhTJ8d7r"
      },
      "source": [
        "### <h3 id='tuplas'> 2.2.4 Tuplas </h3>\n",
        "\n",
        "---\n",
        "\n",
        "Também temos o tipo de dado tupla. Ela funciona da mesma forma que a lsta. A única dferença é que não podemos mudar seus elementos. Declaramos uma tupla com parênteses `()`. Também podemos apenas separar os items entre vírgulas `,`."
      ]
    },
    {
      "cell_type": "code",
      "metadata": {
        "colab": {
          "base_uri": "https://localhost:8080/"
        },
        "id": "gmSvC490LCFz",
        "outputId": "58561302-8301-40e2-9748-0e7488d83512"
      },
      "source": [
        "conjunto_reais = (3.14, 2.71, 0, 1, 2, 3)\n",
        "conjunto_inteiros = 1, 2, 3, 4, 5, 6\n",
        "\n",
        "print(conjunto_reais)\n",
        "print(conjunto_inteiros)\n",
        "\n",
        "print(conjunto_inteiros[4:])\n",
        "print(conjunto_inteiros[:4])\n",
        "print(conjunto_inteiros[4])\n",
        "print(conjunto_inteiros[:])\n"
      ],
      "execution_count": null,
      "outputs": [
        {
          "output_type": "stream",
          "name": "stdout",
          "text": [
            "(3.14, 2.71, 0, 1, 2, 3)\n",
            "(1, 2, 3, 4, 5, 6)\n",
            "(5, 6)\n",
            "(1, 2, 3, 4)\n",
            "5\n",
            "(1, 2, 3, 4, 5, 6)\n"
          ]
        }
      ]
    },
    {
      "cell_type": "markdown",
      "metadata": {
        "id": "loZ6j7IARSAZ"
      },
      "source": [
        "Como podemos perceber, todas operações que relizamos com listas podemos realizar com tuplas. Veremos mais a frente algumas coisas que veremos apenas com tuplas."
      ]
    },
    {
      "cell_type": "markdown",
      "metadata": {
        "id": "tpwQi7Nbz-LQ"
      },
      "source": [
        "### <h3 id='listas-tuplas-manim'> 2.2.5 Listas e Tuplas no Manim   </h3>\n",
        "\n",
        "---\n",
        "\n",
        "Vamos ver um pouco como utilzar listas e tuplas no Manim. É possível mover objetos gráficos no Manim. Utilizamos listas para indicar suas coordenadas.\n"
      ]
    },
    {
      "cell_type": "code",
      "metadata": {
        "colab": {
          "base_uri": "https://localhost:8080/",
          "height": 152
        },
        "id": "ZP9WUyfbLP1M",
        "outputId": "6a82651d-bb2b-4b72-8098-a5d9e400a379"
      },
      "source": [
        "%%manim -qm -v WARNING ListasTuplas\n",
        "class ListasTuplas(Scene):\n",
        "  def construct(self):\n",
        "    pos1 = [0, 2, 0]\n",
        "    pos2 = [0, -2, 0]\n",
        "    \n",
        "    quad = Square()\n",
        "\n",
        "    self.play(Write(quad))\n",
        "    self.play(quad.animate.move_to(pos1))\n",
        "    self.play(quad.animate.move_to(pos2))"
      ],
      "execution_count": null,
      "outputs": [
        {
          "output_type": "stream",
          "name": "stderr",
          "text": [
            ""
          ]
        },
        {
          "output_type": "display_data",
          "data": {
            "text/html": [
              "<video controls autoplay loop style=\"max-width: 25vw;\"  >\n",
              " <source src=\"data:video/mp4;base64,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\" type=\"video/mp4\">\n",
              " Your browser does not support the video tag.\n",
              " </video>"
            ],
            "text/plain": [
              "<IPython.core.display.Video object>"
            ]
          },
          "metadata": {}
        }
      ]
    },
    {
      "cell_type": "markdown",
      "metadata": {
        "id": "G3_eB-z6YtqM"
      },
      "source": [
        "## <h2 id='estrutura-controle'>2.3 Etruturas de controle</h2>\n",
        "\n",
        "---\n",
        "\n",
        "Agora que vimos os tipos de dadoss, precisamos entender como manipulá-las. Para isso, usaremos as estruturas de controle. Abordaremos sobre as estruturas `if`, `else`, `elif`, ` while` e `for`."
      ]
    },
    {
      "cell_type": "markdown",
      "metadata": {
        "id": "sWgNV_5ogJss"
      },
      "source": [
        "### <h3 id='if-else'> 2.3.1 if else </h3>\n",
        "\n",
        "---\n",
        "\n",
        "A primeira estrutura de controle que abordaremos será o `if`. Basicamente o que ele faz é verificar se uma condição é verdadeira. Se for, o código dentro é executado. Se não for, o código não é executado."
      ]
    },
    {
      "cell_type": "code",
      "metadata": {
        "colab": {
          "base_uri": "https://localhost:8080/"
        },
        "id": "AJnOLElHgsqA",
        "outputId": "92769447-8d84-4aec-9fa8-52309ca0d900"
      },
      "source": [
        "num = 2\n",
        "\n",
        "if num % 2 == 0:\n",
        "  print(f'{num} é par')"
      ],
      "execution_count": null,
      "outputs": [
        {
          "output_type": "stream",
          "name": "stdout",
          "text": [
            "2 é par\n"
          ]
        }
      ]
    },
    {
      "cell_type": "markdown",
      "metadata": {
        "id": "sYIJBlUJj5H9"
      },
      "source": [
        "Acima, verificamos se a variável num é par, ou seja, se o resto da divisão por 2 é 0. Se for, ele printa \"2 é par\".\n",
        "\n",
        "> Obs: tabulações são usadas para colocar um código dentro de uma estrutura\n",
        "\n",
        "Agora que aprendemos o se (`if`), precisamos do se não (`else`). Basicamente, se a condição no `if` for falsa, ela é redirecionada para o else."
      ]
    },
    {
      "cell_type": "code",
      "metadata": {
        "colab": {
          "base_uri": "https://localhost:8080/"
        },
        "id": "RzsuJOPgoM_R",
        "outputId": "b7533205-04f6-4ebd-ca07-bcdddd7d1f5b"
      },
      "source": [
        "num = 3\n",
        "\n",
        "if num % 2 == 0:\n",
        "  print(f'{num} é par')\n",
        "else:\n",
        "  print(f'{num} é impar')"
      ],
      "execution_count": null,
      "outputs": [
        {
          "output_type": "stream",
          "name": "stdout",
          "text": [
            "3 é impar\n"
          ]
        }
      ]
    },
    {
      "cell_type": "markdown",
      "metadata": {
        "id": "2j30HMWboa--"
      },
      "source": [
        "### <h3 id='elif'> 2.3.2 elif </h3>\n",
        "\n",
        "---\n",
        "\n",
        "Uma estrutura complementar ao `if else` é o elif. Basicamente, em vez de apenas 2 condições, podemos encadiar várias."
      ]
    },
    {
      "cell_type": "code",
      "metadata": {
        "colab": {
          "base_uri": "https://localhost:8080/"
        },
        "id": "-FmMg_h2pEit",
        "outputId": "5da5683d-6aa7-4158-9122-91f6c86ed179"
      },
      "source": [
        "num = 5\n",
        "\n",
        "if num < 5:\n",
        "  print(f'{num} é menor que 5')\n",
        "elif num == 5:\n",
        "  print(f'{num} é 5')\n",
        "elif num > 5:\n",
        "  print(f'{num} é maior que 5')\n",
        "else:\n",
        "  print(f'{num} não é um número')"
      ],
      "execution_count": null,
      "outputs": [
        {
          "output_type": "stream",
          "name": "stdout",
          "text": [
            "5 é 5\n"
          ]
        }
      ]
    },
    {
      "cell_type": "markdown",
      "metadata": {
        "id": "Bl_wyQdLpxX0"
      },
      "source": [
        "### <h3 id='while'> 2.3.3 while </h3>\n",
        "\n",
        "---\n",
        "\n",
        "Existem situações onde queremos que o mesmo trecho de código se repita diversas vezes. Para isso, usamos o loop `while`. Por ela, passamos uma comparação que executa um código até que a condição seja falsa."
      ]
    },
    {
      "cell_type": "code",
      "metadata": {
        "colab": {
          "base_uri": "https://localhost:8080/"
        },
        "id": "QEzcBRnPIfRk",
        "outputId": "1b86dd42-7597-4b64-eb49-f7eaa1e66fc1"
      },
      "source": [
        "vezes = 0\n",
        "\n",
        "while vezes < 5:\n",
        "  print(f'{vezes} é menor que 5')\n",
        "  vezes += 1"
      ],
      "execution_count": null,
      "outputs": [
        {
          "output_type": "stream",
          "name": "stdout",
          "text": [
            "0 é menor que 5\n",
            "1 é menor que 5\n",
            "2 é menor que 5\n",
            "3 é menor que 5\n",
            "4 é menor que 5\n"
          ]
        }
      ]
    },
    {
      "cell_type": "markdown",
      "metadata": {
        "id": "AnBWh4zegR92"
      },
      "source": [
        "> Obs: Tome cuidado apenas quando a expressão for sempre verdadeira. Isso é o que chamamos de loop infinito. Nestes casos, ela será executada até que aconteça um erro. Esse erro acontece pois a memória que é onde os dados do computador são guardados acaba. Não abordaremos com profundidade como a memória do computador funciona, mas ela não é ilimitada. Entretanto, não precisamos nos preocupar tanto com isso. Basta evitarmos loop infinitos.\n",
        "\n",
        "\n",
        "\n"
      ]
    },
    {
      "cell_type": "markdown",
      "metadata": {
        "id": "RbPzuSBdiRez"
      },
      "source": [
        "### <h3 id='break'> 3.3.4 break </h3>\n",
        "\n",
        "---\n",
        "\n",
        "Se quisermos sair da estrutura while mesmo que a condição ainda seja verdadeira, usamos a expressão `break`."
      ]
    },
    {
      "cell_type": "code",
      "metadata": {
        "colab": {
          "base_uri": "https://localhost:8080/"
        },
        "id": "dSxHQN0TjyFg",
        "outputId": "479b70f7-b69b-415c-c5f4-ddef386d6638"
      },
      "source": [
        "contador = 0\n",
        "while contador < 5:\n",
        "  print(f'{contador} é menor que 5')\n",
        "  if contador == 3:\n",
        "    break\n",
        "  contador += 1"
      ],
      "execution_count": null,
      "outputs": [
        {
          "output_type": "stream",
          "name": "stdout",
          "text": [
            "0 é menor que 5\n",
            "1 é menor que 5\n",
            "2 é menor que 5\n",
            "3 é menor que 5\n"
          ]
        }
      ]
    },
    {
      "cell_type": "markdown",
      "metadata": {
        "id": "fmERhZdCkF0g"
      },
      "source": [
        "### <h3 id='for'> 2.3.5 for </h3>\n",
        "\n",
        "---\n",
        "\n",
        "Outra estrutura que abordaremos é o loop `for`. Nele, iteramos os elementos de uma lista. Não está escrito errado, iterar significa passar por cada um dos elementos de uma lista ou estruturas com diversos elementos. Usamos o `for` junto com o `in`."
      ]
    },
    {
      "cell_type": "code",
      "metadata": {
        "colab": {
          "base_uri": "https://localhost:8080/"
        },
        "id": "iPvLyOhoy2rw",
        "outputId": "da6d265e-4f40-48f2-c4d0-a0881221fa6f"
      },
      "source": [
        "numeros_inteiros = [1, 2, 3, 4, 5]\n",
        "somatorio = 0\n",
        "\n",
        "for numero in numeros_inteiros:\n",
        "  print(numero)"
      ],
      "execution_count": null,
      "outputs": [
        {
          "output_type": "stream",
          "name": "stdout",
          "text": [
            "1\n",
            "2\n",
            "3\n",
            "4\n",
            "5\n"
          ]
        }
      ]
    },
    {
      "cell_type": "markdown",
      "metadata": {
        "id": "ZlMfp5af5SQr"
      },
      "source": [
        "> Obs: Ambos while e for são estruturas de repetição, ou seja, eles repetem a parte do código diversas vezes. Normalmente o `for` é mais utilizadopor por ser mais simples de escrever. No `while`, precisamos criar uma variável para contar quantas vezes e ainda precisamos incrementá-la. No `for`, precisamos apenas de uma lista ou do range que veremos no próximo tópico."
      ]
    },
    {
      "cell_type": "markdown",
      "metadata": {
        "id": "Sdae7fTjzDDK"
      },
      "source": [
        "### <h3 id='range'> 2.3.6 range </h3>\n",
        "\n",
        "---\n",
        "\n",
        "Além de usar listas, podemos usar o `range` para iterar elementos. Ele basicamente cria uma sequencia de números."
      ]
    },
    {
      "cell_type": "code",
      "metadata": {
        "colab": {
          "base_uri": "https://localhost:8080/"
        },
        "id": "DW5GYkYnzaon",
        "outputId": "7cf726ab-be3d-4673-95c3-29eb19db3628"
      },
      "source": [
        "for i in range(5):\n",
        "  print(i)"
      ],
      "execution_count": null,
      "outputs": [
        {
          "output_type": "stream",
          "name": "stdout",
          "text": [
            "0\n",
            "1\n",
            "2\n",
            "3\n",
            "4\n"
          ]
        }
      ]
    },
    {
      "cell_type": "markdown",
      "metadata": {
        "id": "4HYroootzfLe"
      },
      "source": [
        "Também podemos adicionar outros números para indicar começo, fim e passo como fazemos nas listas fatiadas."
      ]
    },
    {
      "cell_type": "code",
      "metadata": {
        "colab": {
          "base_uri": "https://localhost:8080/"
        },
        "id": "yPWXh0aozpFM",
        "outputId": "47360ff5-8875-43ed-f382-cd1712e455c6"
      },
      "source": [
        "for i in range(3, 9, 2):\n",
        "  print(i)"
      ],
      "execution_count": null,
      "outputs": [
        {
          "output_type": "stream",
          "name": "stdout",
          "text": [
            "3\n",
            "5\n",
            "7\n"
          ]
        }
      ]
    },
    {
      "cell_type": "markdown",
      "metadata": {
        "id": "QM32S_dGEahb"
      },
      "source": [
        "### <h3 id='operador-ternario'> 2.3.7 Operador ternário </h3>\n",
        "\n",
        "---\n",
        "\n",
        "Podemos usar a estrutura do `if else` em uma só linha. Usamos o operador ternário para isso."
      ]
    },
    {
      "cell_type": "code",
      "metadata": {
        "colab": {
          "base_uri": "https://localhost:8080/"
        },
        "id": "KrONRqpIIvxz",
        "outputId": "b3c4b5aa-dc76-4d40-c44a-bc2d2263d521"
      },
      "source": [
        "num = 5\n",
        "\n",
        "if num > 10:\n",
        "  print(f'{num} é maior que 10')\n",
        "else:\n",
        "  print(f'{num} não é maior que 10')\n",
        "\n",
        "print(f'{num} é maior que 10') if num > 10 else print(f'{num} não é maior que 10')"
      ],
      "execution_count": null,
      "outputs": [
        {
          "output_type": "stream",
          "name": "stdout",
          "text": [
            "5 não é maior que 10\n",
            "5 não é maior que 10\n"
          ]
        }
      ]
    },
    {
      "cell_type": "markdown",
      "metadata": {
        "id": "5XOw_s5UAhov"
      },
      "source": [
        "## <h2 id='funcoes'> 2.4 Funções </h2>\n",
        "\n",
        "---\n",
        "\n",
        "Até agora, vimos tudo que precisamos para criar nossos próprios programas. Entretanto, há diversas linhas de código iguais é ineficiente. Para isso, utilizaremos funções."
      ]
    },
    {
      "cell_type": "markdown",
      "metadata": {
        "id": "XDOurr5BBAQ-"
      },
      "source": [
        "### <h3 id='funcoes-definicao'> 2.4.1 Reuso de código </h3>\n",
        "\n",
        "---\n",
        "\n",
        "Muitas vezes, repetimos o mesmo código diversas vezes. Por exemplo, quando queremos fazer a média de 2 listas. "
      ]
    },
    {
      "cell_type": "code",
      "metadata": {
        "colab": {
          "base_uri": "https://localhost:8080/"
        },
        "id": "_uGyB88J44ct",
        "outputId": "ac252653-ddec-44ec-bb28-43cf3fbc55e8"
      },
      "source": [
        "lista1 = [3.14, 2.72, 9.8]\n",
        "somatorio1 = 0\n",
        "\n",
        "for numero in lista1:\n",
        "  somatorio1 += numero\n",
        "\n",
        "print(somatorio1)\n",
        "\n",
        "lista2 = [2, 4, 6, 8]\n",
        "somatorio2 = 0\n",
        "\n",
        "for numero in lista2:\n",
        "  somatorio2 += numero\n",
        "\n",
        "print(somatorio2)\n",
        "\n",
        "lista3 = [1, 3, 5, 7, 9]\n",
        "somatorio3 = 0\n",
        "\n",
        "for numero in lista3:\n",
        "  somatorio3 += numero\n",
        "\n",
        "print(somatorio3)"
      ],
      "execution_count": null,
      "outputs": [
        {
          "output_type": "stream",
          "name": "stdout",
          "text": [
            "15.66\n",
            "20\n",
            "25\n"
          ]
        }
      ]
    },
    {
      "cell_type": "markdown",
      "metadata": {
        "id": "4iZpPn0h5Stt"
      },
      "source": [
        "Estamos repetindo o mesmo código diversas vezes. Para evitar isso, usamos funções."
      ]
    },
    {
      "cell_type": "code",
      "metadata": {
        "colab": {
          "base_uri": "https://localhost:8080/"
        },
        "id": "eSMEbRdm52uj",
        "outputId": "34ac1b57-0a19-4d67-cd81-e627e7f98690"
      },
      "source": [
        "def somatorio(lista):\n",
        "  somatorio = 0\n",
        "  for numero in lista:\n",
        "    somatorio += numero\n",
        "  return somatorio\n",
        "\n",
        "print(somatorio(lista1))\n",
        "print(somatorio(lista2))\n",
        "print(somatorio(lista3))"
      ],
      "execution_count": null,
      "outputs": [
        {
          "output_type": "stream",
          "name": "stdout",
          "text": [
            "15.66\n",
            "20\n",
            "25\n"
          ]
        }
      ]
    },
    {
      "cell_type": "markdown",
      "metadata": {
        "id": "c4PigJh862wa"
      },
      "source": [
        "Como podemos observar, a quantidade de linhas de código é bastante reduzida. Uma função é declarada apenas uma vez e pode ser chamada quantas vezes forem necessárias, diminuindo consideravelmente a quantidade de linhas de código.\n",
        "\n",
        "> Obs: a função acima possui grande parte dos elementos de uma função que veremos a seguir.\n",
        "\n",
        "Em programação, o uso de funções é muito importante pois nos exemplos desse manual, são abordados exemplos simples com poucas linhas de código, mas códigos com animações completas como a do canal [3b1b](https://www.youtube.com/channel/UCYO_jab_esuFRV4b17AJtAw) possuem centenas ou milhares de linhas de código. Se não fossem usadas funções, haveria muito mais linhas de código e estaria muito mais desorganizado."
      ]
    },
    {
      "cell_type": "markdown",
      "metadata": {
        "id": "qeJIkKGD7lNx"
      },
      "source": [
        "### <h3 id='funcoes-definicao'> 2.4.2 O que são funções? </h3>\n",
        "\n",
        "---\n",
        "\n",
        "Até agora discutimos qual a importância das funções e do reuso do código, mas o que exatamente são funções? São pedaços de código que podem ser reutilizados pelo programa. Também podemos utilizar a definição matemática que é algo que recebe entradas e te dá saídas. Já utilizamos algumas funções: `print` e `range`."
      ]
    },
    {
      "cell_type": "code",
      "metadata": {
        "colab": {
          "base_uri": "https://localhost:8080/"
        },
        "id": "1fQverIB7kdg",
        "outputId": "85aa7e15-d302-409d-b2b4-9ff3135c3b7d"
      },
      "source": [
        "print('Isso é uma função')\n",
        "range(3, 10)"
      ],
      "execution_count": null,
      "outputs": [
        {
          "output_type": "stream",
          "name": "stdout",
          "text": [
            "Isso é uma função\n"
          ]
        },
        {
          "output_type": "execute_result",
          "data": {
            "text/plain": [
              "range(3, 10)"
            ]
          },
          "metadata": {},
          "execution_count": 8
        }
      ]
    },
    {
      "cell_type": "markdown",
      "metadata": {
        "id": "2OOgjqpF-G68"
      },
      "source": [
        "Essas funções são pré-definidas pelo Python, mas podemos criar nossas próprias funções usando a palavra-chave `def`."
      ]
    },
    {
      "cell_type": "code",
      "metadata": {
        "colab": {
          "base_uri": "https://localhost:8080/"
        },
        "id": "R4Pv9lxx-URG",
        "outputId": "dd84b7c4-4e62-43a5-ccdf-b276fee1d5ed"
      },
      "source": [
        "def funcao():\n",
        "  print('Isso é uma função')\n",
        "\n",
        "funcao()"
      ],
      "execution_count": null,
      "outputs": [
        {
          "output_type": "stream",
          "name": "stdout",
          "text": [
            "Isso é uma função\n"
          ]
        }
      ]
    },
    {
      "cell_type": "markdown",
      "metadata": {
        "id": "4h3Re6Zv-Zof"
      },
      "source": [
        "Podemos fazer 2 coisas com uma função, definí-la e chamá-la. Acima, usamos o `def` para definí-la e a chamamos digitando seu nome seguido de parenteses. "
      ]
    },
    {
      "cell_type": "markdown",
      "metadata": {
        "id": "zgqE4ge6-sZc"
      },
      "source": [
        "### <h3 id='escopo'> 2.4.3 Escopo </h3>\n",
        "\n",
        "---\n",
        "\n",
        "Escopo é um conceito que deixa muitas pessoas confusas quando estão vendo programação pela primeira vez, mas podemos definí-lo como o lugar onde variáveis ou funções estão no código. Podemos ter um escopo mais aberto e mais fechado."
      ]
    },
    {
      "cell_type": "code",
      "metadata": {
        "colab": {
          "base_uri": "https://localhost:8080/",
          "height": 225
        },
        "id": "Gjbx4El2_MJU",
        "outputId": "1943b821-72a2-4e49-fe67-eea3cc34e8ed"
      },
      "source": [
        "def escopo_fechado():\n",
        "  var_interna = 1\n",
        "\n",
        "var_externa = 3\n",
        "\n",
        "print(var_externa)\n",
        "print(var_interna)"
      ],
      "execution_count": null,
      "outputs": [
        {
          "output_type": "stream",
          "name": "stdout",
          "text": [
            "3\n"
          ]
        },
        {
          "output_type": "error",
          "ename": "NameError",
          "evalue": "ignored",
          "traceback": [
            "\u001b[0;31m---------------------------------------------------------------------------\u001b[0m",
            "\u001b[0;31mNameError\u001b[0m                                 Traceback (most recent call last)",
            "\u001b[0;32m<ipython-input-11-8fda272493c9>\u001b[0m in \u001b[0;36m<module>\u001b[0;34m()\u001b[0m\n\u001b[1;32m      5\u001b[0m \u001b[0;34m\u001b[0m\u001b[0m\n\u001b[1;32m      6\u001b[0m \u001b[0mprint\u001b[0m\u001b[0;34m(\u001b[0m\u001b[0mvar_externa\u001b[0m\u001b[0;34m)\u001b[0m\u001b[0;34m\u001b[0m\u001b[0;34m\u001b[0m\u001b[0m\n\u001b[0;32m----> 7\u001b[0;31m \u001b[0mprint\u001b[0m\u001b[0;34m(\u001b[0m\u001b[0mvar_interna\u001b[0m\u001b[0;34m)\u001b[0m\u001b[0;34m\u001b[0m\u001b[0;34m\u001b[0m\u001b[0m\n\u001b[0m",
            "\u001b[0;31mNameError\u001b[0m: name 'var_interna' is not defined"
          ]
        }
      ]
    },
    {
      "cell_type": "markdown",
      "metadata": {
        "id": "EemIsgEI_jkc"
      },
      "source": [
        "Se executarmos o código acima, teremos um erro dizendo que a variável `var_interna` não está definida. Mas definimos ela dentro da função. Isso acontece porque definimos ela dentro de um escopo mais fechado e o escopo mais aberto não consegue enxergar variáveis. \n",
        "\n",
        "> Obs: não se assuste com erros, eles aparecerão cm muita frequencia enquanto você criar os códigos das animações.\n",
        "\n",
        "Para simmplicar as coisas podemos definir que:\n",
        "\n",
        "> Escopo mais aberto não consegue enxergar variáveis ou funções em escopos mais fechados.\n",
        "\n"
      ]
    },
    {
      "cell_type": "markdown",
      "metadata": {
        "id": "yg8m2syMDIqD"
      },
      "source": [
        "### <h3 id='args-params'> 2.4.4 Argumentos </h3>\n",
        "\n",
        "---\n",
        "\n",
        "Anteriormente foi falado que funções podem receber entradas. Para isso, informamos essas entradas dentro de parenteses."
      ]
    },
    {
      "cell_type": "code",
      "metadata": {
        "colab": {
          "base_uri": "https://localhost:8080/"
        },
        "id": "1a-3xgapGpOm",
        "outputId": "0dd4e89a-1530-46f8-bfcb-d3d2ede99b6c"
      },
      "source": [
        "def media(numeros):\n",
        "  media = 0\n",
        "  for numero in numeros:\n",
        "    media += numero\n",
        "  print(media/len(numeros))\n",
        "\n",
        "notas = [7, 5, 8, 10, 3]\n",
        "\n",
        "media(notas)"
      ],
      "execution_count": null,
      "outputs": [
        {
          "output_type": "stream",
          "name": "stdout",
          "text": [
            "6.6\n"
          ]
        }
      ]
    },
    {
      "cell_type": "markdown",
      "metadata": {
        "id": "pebmzslpMmXp"
      },
      "source": [
        "> Obs: Argumentos são definidos como as entradas quando declaramos a função e parâmetros são os valores que passamos pela função. Essa definição não é origatória e podemos usar apenas argumentos ou parâmetros para essas duas definições."
      ]
    },
    {
      "cell_type": "markdown",
      "metadata": {
        "id": "XCc09Dz2HQ-g"
      },
      "source": [
        "### <h3 id='param-padrao'> 2.4.5 Parâmetros Padrão </h3>\n",
        "\n",
        "---\n",
        "\n",
        "Se quisermos que uma função sem precisar ficar passando parâmetros, toda hora, podemos criar parâmetros padrão que irão substituir os valores dos argumentos se os parâmetros não forem passados."
      ]
    },
    {
      "cell_type": "code",
      "metadata": {
        "colab": {
          "base_uri": "https://localhost:8080/"
        },
        "id": "sapCAQJwMNiU",
        "outputId": "283283fa-73c9-49f5-9a38-0510d6e2a007"
      },
      "source": [
        "def parametros(a, b, c=1, d=2):\n",
        "  print(a, b, c, d)\n",
        "\n",
        "parametros(3, 4)"
      ],
      "execution_count": null,
      "outputs": [
        {
          "output_type": "stream",
          "name": "stdout",
          "text": [
            "3 4 1 2\n"
          ]
        }
      ]
    },
    {
      "cell_type": "markdown",
      "metadata": {
        "id": "teMSjjLyNUtu"
      },
      "source": [
        "> Obs: parâmetros padrão devem ser os últimos da definição da função. Caso coontrário, ocorrerá um erro."
      ]
    },
    {
      "cell_type": "markdown",
      "metadata": {
        "id": "eZ4mqFg-Nfcs"
      },
      "source": [
        "### <h3 id='param-nomeados'> 2.4.6 Parâmetros nomeados </h3>\n",
        "\n",
        "---\n",
        "\n",
        "Em funções com muitos parâmetros, podemos ficar confusos quanto à ordem dos argumentos. Para tornar mais simples, usamos parâmetros nomeados que na chamada da função, podemos passar o nome do parâmetro que queremos."
      ]
    },
    {
      "cell_type": "code",
      "metadata": {
        "colab": {
          "base_uri": "https://localhost:8080/"
        },
        "id": "GcdSykXoN8iq",
        "outputId": "1698a6d0-00cc-4eaf-bcdc-9dd2684c1c2c"
      },
      "source": [
        "def parametros(a, b, c, d):\n",
        "  print(a, b, c, d)\n",
        "\n",
        "parametros(1, 2, c=3, d=4)"
      ],
      "execution_count": null,
      "outputs": [
        {
          "output_type": "stream",
          "name": "stdout",
          "text": [
            "1 2 3 4\n"
          ]
        }
      ]
    },
    {
      "cell_type": "markdown",
      "metadata": {
        "id": "KhpY95BlOT3P"
      },
      "source": [
        "> Obs: Parâmetros não nomeados são chamados de parâmetros posicionais, uma vez que dependem da posição onde são passados.\n",
        "\n",
        "> Obs: Parâmetros posicionais devem ser passados antes dos nomeados."
      ]
    },
    {
      "cell_type": "markdown",
      "metadata": {
        "id": "dPHSHmVhPA_H"
      },
      "source": [
        "### <h3 id='return'> 2.4.7 Retorno </h3>\n",
        "\n",
        "---\n",
        "\n",
        "Até agora, apenas passamos a entradas pela função e usamos elas dentro da função. Isso não é recomendado pois precisamos usar os resultados calculados dentro da função fora dela. Para isso, usamos a palavra-chave `return`, ou seja, a saída da função."
      ]
    },
    {
      "cell_type": "code",
      "metadata": {
        "colab": {
          "base_uri": "https://localhost:8080/"
        },
        "id": "NsCPRCpHPica",
        "outputId": "acbb61a1-cfe7-4e7f-a012-d9075e5355ea"
      },
      "source": [
        "def soma(a, b):\n",
        "  return a + b\n",
        "\n",
        "resultado = soma(1, 2)\n",
        "print(resultado)\n",
        "print(soma(3, 4))\n",
        "print(soma)"
      ],
      "execution_count": null,
      "outputs": [
        {
          "output_type": "stream",
          "name": "stdout",
          "text": [
            "3\n",
            "7\n",
            "<function soma at 0x7fdd20e2b950>\n"
          ]
        }
      ]
    },
    {
      "cell_type": "markdown",
      "metadata": {
        "id": "rGWbaG2uPvJE"
      },
      "source": [
        "> Obs: Temos que tomar cuidado com o tipo de retorno da função. Se passarmos esse retorno como parâmetro de outra função, temos que verificar qual o tipo que estamos passando.\n",
        "\n",
        "> Obs: Precisamos colocar o parênteses quando chamamos a função. Se não o fizermos, ela retornará um objeto `function`. Veremos sobre objetos na seção **Programação orientada a objetos**."
      ]
    },
    {
      "cell_type": "markdown",
      "metadata": {
        "id": "BzqL85NKQEDQ"
      },
      "source": [
        "### <h3 id='desempacotamento-listas-tuplas'> 2.4.8 Desempacotamento de listas e tuplas </h3>\n",
        "\n",
        "---\n",
        "\n",
        "Esse tópico é tratado como avançado para quem aprende a programar por ser uma ferramenta única do Python. Entretanto, é um conceito muito importante para a parte de funções do Python. Esse conceito permite diversas coisas, entre elas:\n",
        "\n",
        "* Retornar vários valores (Em outras linguagens de programação, seria necessário o uso de arrays ou listas)\n"
      ]
    },
    {
      "cell_type": "code",
      "metadata": {
        "colab": {
          "base_uri": "https://localhost:8080/"
        },
        "id": "eHhF3-FOW5wt",
        "outputId": "796b32e6-c6aa-4ba4-fe36-e8b0dec8112c"
      },
      "source": [
        "def retornar_irracionais():\n",
        "  return 3.14, 2.72\n",
        "\n",
        "print(retornar_irracionais())"
      ],
      "execution_count": null,
      "outputs": [
        {
          "output_type": "stream",
          "name": "stdout",
          "text": [
            "(3.14, 2.72)\n"
          ]
        }
      ]
    },
    {
      "cell_type": "markdown",
      "metadata": {
        "id": "AGtS2j-Yq2qj"
      },
      "source": [
        "* Atribuir mais de um valor à mais de uma variável (normalmente fazemos isso para diminuir a quantidade de linhas de código)\n"
      ]
    },
    {
      "cell_type": "code",
      "metadata": {
        "colab": {
          "base_uri": "https://localhost:8080/"
        },
        "id": "kMLPZBZLRpbk",
        "outputId": "6a1b215b-410a-4cf9-9c43-cd54bc24e847"
      },
      "source": [
        "valor1, valor2 = 3.14, 2.72\n",
        "\n",
        "print(valor1)\n",
        "print(valor2)"
      ],
      "execution_count": null,
      "outputs": [
        {
          "output_type": "stream",
          "name": "stdout",
          "text": [
            "3.14\n",
            "2.72\n"
          ]
        }
      ]
    },
    {
      "cell_type": "markdown",
      "metadata": {
        "id": "KCZ8sgl6CwvK"
      },
      "source": [
        "* Passar diversos argumentos para uma função (Isso é um recurso extremamente utilizado no Manim e em outras bibliotecas do Python)"
      ]
    },
    {
      "cell_type": "code",
      "metadata": {
        "colab": {
          "base_uri": "https://localhost:8080/"
        },
        "id": "A2nvkPt1R6IC",
        "outputId": "76250b29-880a-452b-a383-3e57a3fa5a0c"
      },
      "source": [
        "def somatorio(*nums):\n",
        "  soma = 0\n",
        "  for num in nums:\n",
        "    soma += num\n",
        "  return soma\n",
        "\n",
        "print(somatorio(1, 2, 3))"
      ],
      "execution_count": null,
      "outputs": [
        {
          "output_type": "stream",
          "name": "stdout",
          "text": [
            "6\n"
          ]
        }
      ]
    },
    {
      "cell_type": "markdown",
      "metadata": {
        "id": "N9dtAkHKVRS8"
      },
      "source": [
        "### <h3 id='args-kwargs'>  </h3>"
      ]
    }
  ]
}